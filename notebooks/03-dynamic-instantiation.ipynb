{
 "cells": [
  {
   "cell_type": "markdown",
   "metadata": {},
   "source": [
    "# Dynamic Instantiation\n",
    "\n",
    "Python provides some powerful tools such as `importlib` which enables us to dynamically import modules at run-time. Similarly to how we didn't want to include hardcoded values such as `args.regex` because we wanted to interpret this at run-time. Sometimes we want to dynamically decide what modules to import i.e. do we want to use `Rotate` or `Flip`, or `modelA` or `modelB`."
   ]
  },
  {
   "cell_type": "markdown",
   "metadata": {},
   "source": [
    "## 01. Static Modules"
   ]
  },
  {
   "cell_type": "code",
   "execution_count": 1,
   "metadata": {},
   "outputs": [],
   "source": [
    "import os\n",
    "import sys\n",
    "\n",
    "# add path of `src` to sys.path\n",
    "from dotenv import load_dotenv\n",
    "load_dotenv(\".env\")\n",
    "PROJECT_ROOT = os.environ[\"PROJECT_ROOT\"]\n",
    "sys.path.append(PROJECT_ROOT)"
   ]
  },
  {
   "cell_type": "code",
   "execution_count": 2,
   "metadata": {},
   "outputs": [],
   "source": [
    "from src.processes import Rotate\n",
    "\n",
    "# create and do something with this process\n",
    "# process = Rotate(...)"
   ]
  },
  {
   "cell_type": "code",
   "execution_count": 3,
   "metadata": {},
   "outputs": [
    {
     "name": "stdout",
     "output_type": "stream",
     "text": [
      "<class 'src.processes.Rotate'>\n"
     ]
    }
   ],
   "source": [
    "print(Rotate)"
   ]
  },
  {
   "cell_type": "markdown",
   "metadata": {},
   "source": [
    "## 02. Dynamic Modules"
   ]
  },
  {
   "cell_type": "code",
   "execution_count": 4,
   "metadata": {},
   "outputs": [
    {
     "name": "stdout",
     "output_type": "stream",
     "text": [
      "<src.processes.Rotate object at 0x00000270BCD03200>\n"
     ]
    }
   ],
   "source": [
    "import importlib\n",
    "\n",
    "module_name = \"src.processes\"\n",
    "class_name = \"Rotate\"\n",
    "\n",
    "# import the module i.e. src.processes\n",
    "module = importlib.import_module(module_name)\n",
    "\n",
    "# get the class from the module i.e. Rotate from src.processes\n",
    "process_fn = getattr(module, class_name)\n",
    "\n",
    "# initialize the process\n",
    "process = process_fn(rotation=35)\n",
    "\n",
    "print(process)"
   ]
  },
  {
   "cell_type": "markdown",
   "metadata": {},
   "source": [
    "## 03. Arguments and Keyword Arguments"
   ]
  },
  {
   "cell_type": "markdown",
   "metadata": {},
   "source": [
    "## "
   ]
  },
  {
   "cell_type": "code",
   "execution_count": 27,
   "metadata": {},
   "outputs": [],
   "source": [
    "args = [10, 20]\n",
    "kwargs = {\"x\": 10, \"y\": 20}\n",
    "\n",
    "def func(*args, **kwargs):\n",
    "    print(args)\n",
    "    print(kwargs)"
   ]
  },
  {
   "cell_type": "code",
   "execution_count": 31,
   "metadata": {},
   "outputs": [
    {
     "name": "stdout",
     "output_type": "stream",
     "text": [
      "()\n",
      "{'x': 10, 'y': 20}\n"
     ]
    }
   ],
   "source": [
    "func(**kwargs)"
   ]
  },
  {
   "cell_type": "code",
   "execution_count": 32,
   "metadata": {},
   "outputs": [],
   "source": [
    "def add(x, y):\n",
    "    return x + y"
   ]
  },
  {
   "cell_type": "markdown",
   "metadata": {},
   "source": [
    "Dynamic initialization"
   ]
  },
  {
   "cell_type": "code",
   "execution_count": 34,
   "metadata": {},
   "outputs": [
    {
     "name": "stdout",
     "output_type": "stream",
     "text": [
      "<src.processes.Rotate object at 0x0000028B5B58FCB0>\n"
     ]
    }
   ],
   "source": [
    "# keyworded arguments from config\n",
    "kwargs = {\"rotation\": 35}\n",
    "\n",
    "#\n",
    "process = process_fn(**kwargs)\n",
    "\n",
    "print(process)"
   ]
  },
  {
   "cell_type": "code",
   "execution_count": 37,
   "metadata": {},
   "outputs": [
    {
     "name": "stdout",
     "output_type": "stream",
     "text": [
      "['src', 'processes', 'Rotate']\n"
     ]
    },
    {
     "data": {
      "text/plain": [
       "<src.processes.Rotate at 0x28b66a28560>"
      ]
     },
     "execution_count": 37,
     "metadata": {},
     "output_type": "execute_result"
    }
   ],
   "source": [
    "import importlib\n",
    "\n",
    "def initialize(cfg):\n",
    "    target = cfg.pop(\"_target_\")\n",
    "    parts = target.split(\".\")\n",
    "    print(parts)\n",
    "    module_name = \".\".join(parts[:-1])\n",
    "    class_name = \".\".join([parts[-1]])\n",
    "    module = importlib.import_module(module_name)\n",
    "    class_fn = getattr(module, class_name)\n",
    "    _class = class_fn(**cfg)\n",
    "    return _class\n",
    "\n",
    "\n",
    "cfg = {\n",
    "    \"_target_\": \"src.processes.Rotate\",\n",
    "    \"rotation\": 35\n",
    "}\n",
    "\n",
    "process = initialize(cfg)"
   ]
  },
  {
   "cell_type": "code",
   "execution_count": null,
   "metadata": {},
   "outputs": [],
   "source": []
  }
 ],
 "metadata": {
  "kernelspec": {
   "display_name": ".venv",
   "language": "python",
   "name": "python3"
  },
  "language_info": {
   "codemirror_mode": {
    "name": "ipython",
    "version": 3
   },
   "file_extension": ".py",
   "mimetype": "text/x-python",
   "name": "python",
   "nbconvert_exporter": "python",
   "pygments_lexer": "ipython3",
   "version": "3.12.7"
  }
 },
 "nbformat": 4,
 "nbformat_minor": 2
}
