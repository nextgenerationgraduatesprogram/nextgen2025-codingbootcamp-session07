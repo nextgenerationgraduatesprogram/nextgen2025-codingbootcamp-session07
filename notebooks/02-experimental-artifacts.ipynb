{
 "cells": [
  {
   "cell_type": "markdown",
   "metadata": {},
   "source": [
    "# Experimental Artifacts\n",
    "\n",
    "Often when we run experiments we want to keep a record of what we've just done, for some work you might use a log book, for digital experiments we can also incorporate a digital record of our work.\n",
    "\n",
    "Often times when we're running experiments we might come back to them in a couple of weeks and want to remember what we did and what parameters we used. If you don't record these you might have to repeat the experiments, and this can be difficult to reproduce.\n",
    "\n",
    "Storage space is cheap, and it's a good habit to just practice exporting any information (within reason) that could help you down the track."
   ]
  },
  {
   "cell_type": "markdown",
   "metadata": {},
   "source": [
    "## 01. Creating an output directory\n",
    "\n",
    "Let's create a directory using `pathlib`."
   ]
  },
  {
   "cell_type": "code",
   "execution_count": 2,
   "metadata": {},
   "outputs": [],
   "source": [
    "from pathlib import Path\n",
    "\n",
    "# lets define a directory\n",
    "outputs = Path(\"../outputs\")\n",
    "\n",
    "# create the directory\n",
    "outputs.mkdir(exist_ok=True, parents=True)"
   ]
  },
  {
   "cell_type": "markdown",
   "metadata": {},
   "source": [
    "## 02. Storing the artifacts\n",
    "\n",
    "Whenever we're running experiments we would typically want to be able to have a unique identified for the experiment we're running, for this I tend to use `uuid`. Lets create a unique directory in the artifacts with this."
   ]
  },
  {
   "cell_type": "code",
   "execution_count": 5,
   "metadata": {},
   "outputs": [
    {
     "name": "stdout",
     "output_type": "stream",
     "text": [
      "6918187f-c4d7-485d-b066-f27fd3d0c517\n",
      "..\\outputs\\6918187f-c4d7-485d-b066-f27fd3d0c517\n"
     ]
    }
   ],
   "source": [
    "# create a uuid\n",
    "from uuid import uuid4\n",
    "uuid = str(uuid4()) \n",
    "print(uuid)\n",
    "\n",
    "# create a unique directory\n",
    "artifacts = outputs.joinpath(uuid)\n",
    "artifacts.mkdir(exist_ok=False, parents=True)\n",
    "print(artifacts)"
   ]
  },
  {
   "cell_type": "code",
   "execution_count": 9,
   "metadata": {},
   "outputs": [],
   "source": [
    "# storing the artifacts\n",
    "..."
   ]
  },
  {
   "cell_type": "code",
   "execution_count": 11,
   "metadata": {},
   "outputs": [],
   "source": [
    "# storing some metadata about the experiment\n",
    "note = \"im running this experiment to see what happens whenthe lr changes : 1e-3\""
   ]
  },
  {
   "cell_type": "code",
   "execution_count": 10,
   "metadata": {},
   "outputs": [],
   "source": [
    "# storing the configuration files for future reference\n",
    "..."
   ]
  },
  {
   "cell_type": "markdown",
   "metadata": {},
   "source": [
    "We can put this all together into a single script where we have a default set of options we can chose from defined via. configuration files. We are able to override these values when we run a script providing us with flexibility to modify these default configurations. We are also exporting relevant information from the job into a unique output directory for record keeping. Lastly, we're able to run this script from anywhere because all of the logic is self contained."
   ]
  },
  {
   "cell_type": "code",
   "execution_count": 16,
   "metadata": {},
   "outputs": [
    {
     "name": "stdout",
     "output_type": "stream",
     "text": [
      "loaded dataset_A.yaml from dataset\n",
      "loaded process_A.yaml from process\n",
      "loaded paths.yaml from paths\n",
      "exporting artifacts to C:\\Users\\samca\\Documents\\Python Projects\\nextgen2025-codingbootcamp-session07\\outputs\\11537cbe-7ec4-468c-850b-4d804e30c6ee\n",
      "downloaded fashion_mnist into root\n",
      "img (28, 28, 3) with label 9\n",
      "img (28, 28, 3) with label 2\n",
      "img (28, 28, 3) with label 1\n",
      "img (28, 28, 3) with label 1\n",
      "img (28, 28, 3) with label 6\n",
      "img (28, 28, 3) with label 1\n",
      "img (28, 28, 3) with label 4\n",
      "img (28, 28, 3) with label 6\n",
      "img (28, 28, 3) with label 5\n",
      "img (28, 28, 3) with label 7\n"
     ]
    }
   ],
   "source": [
    "!python ../scripts/04-script_with_config_clo_artifacts.py"
   ]
  },
  {
   "cell_type": "code",
   "execution_count": null,
   "metadata": {},
   "outputs": [],
   "source": []
  }
 ],
 "metadata": {
  "kernelspec": {
   "display_name": ".venv",
   "language": "python",
   "name": "python3"
  },
  "language_info": {
   "codemirror_mode": {
    "name": "ipython",
    "version": 3
   },
   "file_extension": ".py",
   "mimetype": "text/x-python",
   "name": "python",
   "nbconvert_exporter": "python",
   "pygments_lexer": "ipython3",
   "version": "3.12.7"
  }
 },
 "nbformat": 4,
 "nbformat_minor": 2
}
