{
 "cells": [
  {
   "cell_type": "markdown",
   "metadata": {},
   "source": [
    "# Configuration Files\n",
    "\n",
    "Whilst argument parsing solved a lot of problems in terms of avoiding hardcoded values and providing information to the user about what different arguments do. As our script becomes more complex and contains more variables, even argument parsing can become overwhelming. See https://github.com/ultralytics/yolov5/blob/master/train.py. \n",
    "\n",
    "Say we want to train a machine learning model, we have model A which uses one set of variables, and model B which uses another set of variables, we can't support this solely using `argparse` because we can only set a single default.\n",
    "\n",
    "Thankfully we can also use configuration files.\n",
    "\n",
    "When we use configuration files we're typically making a trade-off that not every variable is going to be able to be changed, but we might instead have a few pre-configured variations that we can select between."
   ]
  },
  {
   "cell_type": "markdown",
   "metadata": {},
   "source": [
    "## 01. What is a configuration file?\n",
    "\n",
    "What are configuration files? These are just files that we tend to put in a specific directory, usually with `json`, `.yaml`, `.ini` extensions, that store groups of variables for us. "
   ]
  },
  {
   "cell_type": "code",
   "execution_count": 11,
   "metadata": {},
   "outputs": [
    {
     "data": {
      "text/plain": [
       "'\\n{\\n    \"dataset\": {\\n        \"root\": ...,\\n        \"regex\": ...\\n    }\\n}\\n'"
      ]
     },
     "execution_count": 11,
     "metadata": {},
     "output_type": "execute_result"
    }
   ],
   "source": [
    "# how is a json file structured?\n",
    "\"\"\"\n",
    "{\n",
    "    \"dataset\": {\n",
    "        \"root\": ...,\n",
    "        \"regex\": ...\n",
    "    }\n",
    "}\n",
    "\"\"\""
   ]
  },
  {
   "cell_type": "code",
   "execution_count": 1,
   "metadata": {},
   "outputs": [
    {
     "data": {
      "text/plain": [
       "'\\ndataset:\\n    root: ... # this variable does this\\n    regex: ... # TODO: change this variable to x when i do y\\n'"
      ]
     },
     "execution_count": 1,
     "metadata": {},
     "output_type": "execute_result"
    }
   ],
   "source": [
    "# how is a yaml file structured?\n",
    "\"\"\"\n",
    "dataset:\n",
    "    root: ... # this variable does this\n",
    "    regex: ... # TODO: change this variable to x when i do y\n",
    "\"\"\""
   ]
  },
  {
   "cell_type": "markdown",
   "metadata": {},
   "source": [
    "## 02. Creating a configuration file\n",
    "\n",
    "We can go and create our own configuration file that lets us use a different configuration of a specific dataset, providing us a pre-configured set of variables to use."
   ]
  },
  {
   "cell_type": "code",
   "execution_count": 2,
   "metadata": {},
   "outputs": [
    {
     "data": {
      "text/plain": [
       "'\\ndataset = FashionMnist(root, regex)\\n'"
      ]
     },
     "execution_count": 2,
     "metadata": {},
     "output_type": "execute_result"
    }
   ],
   "source": [
    "# we know for our dataset class we need to provide the following arguments\n",
    "\"\"\"\n",
    "dataset = FashionMnist(root, regex)\n",
    "\"\"\""
   ]
  },
  {
   "cell_type": "code",
   "execution_count": 3,
   "metadata": {},
   "outputs": [],
   "source": [
    "# create a file in /configs directory\n",
    "..."
   ]
  },
  {
   "cell_type": "markdown",
   "metadata": {},
   "source": [
    "## 03. Reading a configuration file\n",
    "\n",
    "Once we've created a configuration file we would typically want to be able to read that data stored in that file in order to be able to use it."
   ]
  },
  {
   "cell_type": "code",
   "execution_count": 5,
   "metadata": {},
   "outputs": [
    {
     "name": "stdout",
     "output_type": "stream",
     "text": [
      "{'root': 'some other value...', 'regex': '*'}\n"
     ]
    }
   ],
   "source": [
    "# using yaml to load configuration files\n",
    "import yaml\n",
    "from pathlib import Path\n",
    "from typing import *\n",
    "\n",
    "path = Path(\"../configs\").joinpath(\"dataset_A.yaml\")\n",
    "\n",
    "with open(path, \"r\") as file:\n",
    "    cfg : Dict[str, Any] = yaml.safe_load(file)\n",
    "    print(cfg)"
   ]
  },
  {
   "cell_type": "code",
   "execution_count": 6,
   "metadata": {},
   "outputs": [
    {
     "data": {
      "text/plain": [
       "'some other value...'"
      ]
     },
     "execution_count": 6,
     "metadata": {},
     "output_type": "execute_result"
    }
   ],
   "source": [
    "# to access items \n",
    "cfg[\"root\"]"
   ]
  },
  {
   "cell_type": "markdown",
   "metadata": {},
   "source": [
    "Whilst we can use `yaml`, I prefer to use `omegaconf` which is a library that builds on top of `yaml` but provides more functionality which we will explore later."
   ]
  },
  {
   "cell_type": "code",
   "execution_count": 7,
   "metadata": {},
   "outputs": [
    {
     "name": "stdout",
     "output_type": "stream",
     "text": [
      "{'root': 'some other value...', 'regex': '*'}\n"
     ]
    }
   ],
   "source": [
    "# using omegaconf to load configuration files\n",
    "from omegaconf import OmegaConf\n",
    "\n",
    "path = Path(\"../configs\").joinpath(\"dataset_A.yaml\")\n",
    "\n",
    "cfg = OmegaConf.load(path)\n",
    "\n",
    "print(cfg)"
   ]
  },
  {
   "cell_type": "code",
   "execution_count": 8,
   "metadata": {},
   "outputs": [
    {
     "data": {
      "text/plain": [
       "'some other value...'"
      ]
     },
     "execution_count": 8,
     "metadata": {},
     "output_type": "execute_result"
    }
   ],
   "source": [
    "# it provides a slightly nicer way to interface with the data stored in the config file\n",
    "cfg.root"
   ]
  },
  {
   "cell_type": "markdown",
   "metadata": {},
   "source": [
    "Variable resolution within a configuration file."
   ]
  },
  {
   "cell_type": "code",
   "execution_count": null,
   "metadata": {},
   "outputs": [],
   "source": []
  },
  {
   "cell_type": "markdown",
   "metadata": {},
   "source": [
    "## 04. Using a Configuration File\n",
    "\n",
    "So the next question becomes, how do we integrate these into our script? You generally have a lot of flexibility, so I'm just going to demonstrate one way I might do it."
   ]
  },
  {
   "cell_type": "code",
   "execution_count": 31,
   "metadata": {},
   "outputs": [],
   "source": [
    "# lets look at our script 01-script.py vs. 02-script-with-config.py"
   ]
  },
  {
   "cell_type": "code",
   "execution_count": 32,
   "metadata": {},
   "outputs": [
    {
     "name": "stderr",
     "output_type": "stream",
     "text": [
      "usage: 01-script.py [-h] --root ROOT [--regex REGEX]\n",
      "01-script.py: error: the following arguments are required: --root\n"
     ]
    }
   ],
   "source": [
    "# lets run script 1\n",
    "!python ../scripts/01-script.py"
   ]
  },
  {
   "cell_type": "code",
   "execution_count": 38,
   "metadata": {},
   "outputs": [
    {
     "name": "stdout",
     "output_type": "stream",
     "text": [
      "downloaded fashion_mnist into root\n",
      "img (28, 28, 3) with label 9\n",
      "img (28, 28, 3) with label 2\n",
      "img (28, 28, 3) with label 1\n",
      "img (28, 28, 3) with label 1\n",
      "img (28, 28, 3) with label 6\n",
      "img (28, 28, 3) with label 1\n",
      "img (28, 28, 3) with label 4\n",
      "img (28, 28, 3) with label 6\n",
      "img (28, 28, 3) with label 5\n",
      "img (28, 28, 3) with label 7\n"
     ]
    }
   ],
   "source": [
    "# lets run script 2\n",
    "!python ../scripts/02-script_with_config.py # --dataset ../configs/dataset_B.yaml"
   ]
  },
  {
   "cell_type": "markdown",
   "metadata": {},
   "source": [
    "## 05. Advanced: Command Line Overrides\n",
    "\n",
    "One issue with this we mentioned briefly is that we might have less granular control over the configuration because we can't specify individual values anymore. However, we can also use `omegaconf` for command line overrides which is an extremely powerful tool."
   ]
  },
  {
   "cell_type": "code",
   "execution_count": 19,
   "metadata": {},
   "outputs": [
    {
     "name": "stdout",
     "output_type": "stream",
     "text": [
      "{'regex': 0}\n"
     ]
    }
   ],
   "source": [
    "from omegaconf import OmegaConf\n",
    "\n",
    "# lets define some args which didn't get parsed\n",
    "unknown_args = [\"regex=0\"]\n",
    "\n",
    "# lets interpret these\n",
    "overrides = OmegaConf.from_dotlist(unknown_args)\n",
    "\n",
    "print(overrides)\n",
    "\n",
    "# \n",
    "# print(overrides.x, type(overrides.x))"
   ]
  },
  {
   "cell_type": "code",
   "execution_count": 20,
   "metadata": {},
   "outputs": [
    {
     "name": "stdout",
     "output_type": "stream",
     "text": [
      "{'root': '${oc.env:PROJECT_ROOT}/data', 'regex': '*'}\n",
      "C:\\Users\\samca\\Documents\\projects\\nextgen2025-codingbootcamp-session07/data\n"
     ]
    }
   ],
   "source": [
    "# we can also merge these using omegaconfg\n",
    "cfg = OmegaConf.load(\"../configs/dataset_B.yaml\")\n",
    "\n",
    "print(cfg)\n",
    "print(cfg.root)"
   ]
  },
  {
   "cell_type": "code",
   "execution_count": 21,
   "metadata": {},
   "outputs": [
    {
     "name": "stdout",
     "output_type": "stream",
     "text": [
      "{'root': '${oc.env:PROJECT_ROOT}/data', 'regex': 0}\n"
     ]
    }
   ],
   "source": [
    "# lets merge these \n",
    "cfg = OmegaConf.merge(cfg, overrides)\n",
    "\n",
    "print(cfg)"
   ]
  },
  {
   "cell_type": "markdown",
   "metadata": {},
   "source": [
    "However, we often have to be careful about types when doing this, under the hood `omegaconf` will interpret these values for you into what it thinks is the most appropriate datatype. However this might not always be suitable."
   ]
  },
  {
   "cell_type": "markdown",
   "metadata": {},
   "source": []
  }
 ],
 "metadata": {
  "kernelspec": {
   "display_name": ".venv",
   "language": "python",
   "name": "python3"
  },
  "language_info": {
   "codemirror_mode": {
    "name": "ipython",
    "version": 3
   },
   "file_extension": ".py",
   "mimetype": "text/x-python",
   "name": "python",
   "nbconvert_exporter": "python",
   "pygments_lexer": "ipython3",
   "version": "3.12.7"
  }
 },
 "nbformat": 4,
 "nbformat_minor": 2
}
