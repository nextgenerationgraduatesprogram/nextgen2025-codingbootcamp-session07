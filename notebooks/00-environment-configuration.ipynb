{
 "cells": [
  {
   "cell_type": "markdown",
   "metadata": {},
   "source": [
    "# Environment Configuration"
   ]
  },
  {
   "cell_type": "markdown",
   "metadata": {},
   "source": [
    "## Virtual Environments"
   ]
  },
  {
   "cell_type": "code",
   "execution_count": 2,
   "metadata": {},
   "outputs": [],
   "source": [
    "# create, initialize, and install packages into your environment following the README"
   ]
  },
  {
   "cell_type": "markdown",
   "metadata": {},
   "source": [
    "## Environment Variables\n",
    "\n",
    "An issue you may encounting with how we used the `sys.path` yesterday to tell Python where to find our `src` files is that we use a path relative to our current working directory. This can cause issues for us depending on where we execute our Python scripts from."
   ]
  },
  {
   "cell_type": "code",
   "execution_count": 4,
   "metadata": {},
   "outputs": [
    {
     "name": "stdout",
     "output_type": "stream",
     "text": [
      "c:\\Users\\samca\\Documents\\projects\\nextgen2025-codingbootcamp-session07\\notebooks\n",
      "\n",
      "c:\\Users\\samca\\Documents\\projects\\nextgen2025-codingbootcamp-session07\\scripts\n",
      "C:\\Users\\samca\\anaconda3\\python312.zip\n",
      "C:\\Users\\samca\\anaconda3\\DLLs\n",
      "C:\\Users\\samca\\anaconda3\\Lib\n",
      "C:\\Users\\samca\\anaconda3\n",
      "c:\\Users\\samca\\Documents\\projects\\nextgen2025-codingbootcamp-session07\\.venv\n",
      "c:\\Users\\samca\\Documents\\projects\\nextgen2025-codingbootcamp-session07\\.venv\\Lib\\site-packages\n",
      "c:\\Users\\samca\\Documents\\projects\\nextgen2025-codingbootcamp-session07\\.venv\\Lib\\site-packages\\win32\n",
      "c:\\Users\\samca\\Documents\\projects\\nextgen2025-codingbootcamp-session07\\.venv\\Lib\\site-packages\\win32\\lib\n",
      "c:\\Users\\samca\\Documents\\projects\\nextgen2025-codingbootcamp-session07\\.venv\\Lib\\site-packages\\Pythonwin\n",
      "C:\\Users\\samca\\Documents\\projects\\nextgen2025-codingbootcamp-session07\n"
     ]
    }
   ],
   "source": [
    "# lets run some scripts from different locations : \n",
    "!python ../scripts/00-env.py"
   ]
  },
  {
   "cell_type": "markdown",
   "metadata": {},
   "source": [
    "To avoid this we need tell Python exactly where our project is in absolute terms on our current machine. Lets look at how to do this."
   ]
  },
  {
   "cell_type": "code",
   "execution_count": null,
   "metadata": {},
   "outputs": [],
   "source": [
    "# lets create and run a setup.py to address this\n",
    "# python ../setup.py"
   ]
  }
 ],
 "metadata": {
  "kernelspec": {
   "display_name": ".venv",
   "language": "python",
   "name": "python3"
  },
  "language_info": {
   "codemirror_mode": {
    "name": "ipython",
    "version": 3
   },
   "file_extension": ".py",
   "mimetype": "text/x-python",
   "name": "python",
   "nbconvert_exporter": "python",
   "pygments_lexer": "ipython3",
   "version": "3.12.7"
  }
 },
 "nbformat": 4,
 "nbformat_minor": 2
}
